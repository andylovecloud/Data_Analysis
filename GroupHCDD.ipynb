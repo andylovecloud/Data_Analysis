{
  "cells": [
    {
      "cell_type": "markdown",
      "metadata": {
        "colab_type": "text",
        "id": "view-in-github"
      },
      "source": [
        "<a href=\"https://colab.research.google.com/github/hiephamk/Data_Analysis/blob/Khanh-Chi/GroupHCDD.ipynb\" target=\"_parent\"><img src=\"https://colab.research.google.com/assets/colab-badge.svg\" alt=\"Open In Colab\"/></a>"
      ]
    },
    {
      "cell_type": "markdown",
      "metadata": {
        "id": "o-NvIXMSAa6W"
      },
      "source": [
        "# Data Analysis & Visualization - Project Work (Team HCDA)"
      ]
    },
    {
      "cell_type": "markdown",
      "metadata": {
        "id": "GA66gLu6VDhq"
      },
      "source": [
        "## Introduction & Objective\n",
        "\n",
        "We selected dataset from Kaggle: https://www.kaggle.com/datasets/arnabchaki/data-science-salaries-2023 on 15 Nov 2023. The information this dataset was most likely gathered by scraping job postings from ai-jobs.net.\n",
        "\n",
        "We aim to use this dataset to analyze salaries for various data science roles, factoring in key variables like experience, location, and job specifics. This offers insights into potential earnings across different domains that influence data science salaries. For example, it can be used to address the following questions:\n",
        "\n",
        "1. Which are the top 10 jobs with the highest salary for juniors in 2023?\n",
        "2. What is the mean annual salary of each job title in small-sized companies in the US?\n",
        "3. How does the average income for the Analytics Lead job vary by experience level?\n",
        "\n",
        "For those embarking on the data science journey, these observations are like having a crystal ball. It enables informed decision-making and strategic job hunting, thereby setting realistic salary expectations."
      ]
    },
    {
      "cell_type": "markdown",
      "metadata": {
        "id": "nvTL1G2SWbf_"
      },
      "source": [
        "# 1. Data Preprocessing"
      ]
    },
    {
      "cell_type": "markdown",
      "metadata": {
        "id": "kY1Pgfl9MDQ5"
      },
      "source": [
        "**Activities:**\n",
        "- Select a dataset to work on and understand your dataset. Your activities may include tasks such as viewing a random sample of data, getting the total number of rows and columns.\n",
        "- Check to see if your dataset contains any missing values and get the percentage of the missing data. Within the context of your dataset, decide what to do with the missing values and take necessary steps.\n",
        "Identify and drop duplicate values from the dataset.\n",
        "- Separate one of your columns in the dataset that contains continuous numeric data into appropriate bins. You may use cut or qcut function.\n",
        "- Identify any outliers within your dataset. If the dataset does not include any outlier, you can randomly mess up some portion of your data.\n",
        "Decide what to do with the outliers.\n",
        "\n",
        "**Assessment:**\n",
        "- Understanding the Dataset (1 point): Demonstrates a basic understanding of the selected dataset by performing tasks like viewing a random sample, determining the total number of rows and columns.\n",
        "- Handling Missing Values (1 point): Identifies and addresses missing values effectively, providing a clear strategy for handling them.\n",
        "- Handling Duplicates (1 point): Detects and removes duplicate values from the dataset, ensuring data cleanliness.\n",
        "\n",
        "**Notes to get teacher's advise**\n",
        "- What should we do if there is no missing values in our data set?\n",
        "- Same with duplicated values\n",
        "- There is no binary value either, can we make assumption on a specific column? Or should we run the command & show the null result?"
      ]
    },
    {
      "cell_type": "markdown",
      "metadata": {
        "id": "8htRnLU8qtxu"
      },
      "source": [
        "### Data Exploration"
      ]
    },
    {
      "cell_type": "code",
      "execution_count": 4,
      "metadata": {
        "id": "9VdF1yFrok2z"
      },
      "outputs": [],
      "source": [
        "# Import neccessary libraries\n",
        "import pandas as pd\n",
        "import numpy as np\n",
        "import matplotlib.pyplot as plt\n",
        "import seaborn as sns\n",
        "\n",
        "import warnings\n",
        "warnings.filterwarnings('ignore')\n",
        "warnings.simplefilter('ignore', DeprecationWarning)"
      ]
    },
    {
      "cell_type": "code",
      "execution_count": 5,
      "metadata": {
        "id": "owIeI3Nj7CTi"
      },
      "outputs": [],
      "source": [
        "# Load raw data\n",
        "#from google.colab import data_table\n",
        "url = 'https://raw.githubusercontent.com/hiephamk/Data_Analysis/main/ds_salaries.csv'\n",
        "salary = pd.read_csv(url,sep = ',')"
      ]
    },
    {
      "cell_type": "code",
      "execution_count": 6,
      "metadata": {
        "colab": {
          "base_uri": "https://localhost:8080/",
          "height": 574
        },
        "id": "_ttSRzuw1Ezb",
        "outputId": "977d0d2c-1be2-41d3-b785-be624735ff5b"
      },
      "outputs": [
        {
          "data": {
            "text/html": [
              "<div>\n",
              "<style scoped>\n",
              "    .dataframe tbody tr th:only-of-type {\n",
              "        vertical-align: middle;\n",
              "    }\n",
              "\n",
              "    .dataframe tbody tr th {\n",
              "        vertical-align: top;\n",
              "    }\n",
              "\n",
              "    .dataframe thead th {\n",
              "        text-align: right;\n",
              "    }\n",
              "</style>\n",
              "<table border=\"1\" class=\"dataframe\">\n",
              "  <thead>\n",
              "    <tr style=\"text-align: right;\">\n",
              "      <th></th>\n",
              "      <th>work_year</th>\n",
              "      <th>experience_level</th>\n",
              "      <th>employment_type</th>\n",
              "      <th>job_title</th>\n",
              "      <th>salary</th>\n",
              "      <th>salary_currency</th>\n",
              "      <th>salary_in_usd</th>\n",
              "      <th>employee_residence</th>\n",
              "      <th>remote_ratio</th>\n",
              "      <th>company_location</th>\n",
              "      <th>company_size</th>\n",
              "    </tr>\n",
              "  </thead>\n",
              "  <tbody>\n",
              "    <tr>\n",
              "      <th>0</th>\n",
              "      <td>2023</td>\n",
              "      <td>SE</td>\n",
              "      <td>FT</td>\n",
              "      <td>Principal Data Scientist</td>\n",
              "      <td>80000</td>\n",
              "      <td>EUR</td>\n",
              "      <td>85847</td>\n",
              "      <td>ES</td>\n",
              "      <td>100</td>\n",
              "      <td>ES</td>\n",
              "      <td>L</td>\n",
              "    </tr>\n",
              "    <tr>\n",
              "      <th>1</th>\n",
              "      <td>2023</td>\n",
              "      <td>MI</td>\n",
              "      <td>CT</td>\n",
              "      <td>ML Engineer</td>\n",
              "      <td>30000</td>\n",
              "      <td>USD</td>\n",
              "      <td>30000</td>\n",
              "      <td>US</td>\n",
              "      <td>100</td>\n",
              "      <td>US</td>\n",
              "      <td>S</td>\n",
              "    </tr>\n",
              "    <tr>\n",
              "      <th>2</th>\n",
              "      <td>2023</td>\n",
              "      <td>MI</td>\n",
              "      <td>CT</td>\n",
              "      <td>ML Engineer</td>\n",
              "      <td>25500</td>\n",
              "      <td>USD</td>\n",
              "      <td>25500</td>\n",
              "      <td>US</td>\n",
              "      <td>100</td>\n",
              "      <td>US</td>\n",
              "      <td>S</td>\n",
              "    </tr>\n",
              "    <tr>\n",
              "      <th>3</th>\n",
              "      <td>2023</td>\n",
              "      <td>SE</td>\n",
              "      <td>FT</td>\n",
              "      <td>Data Scientist</td>\n",
              "      <td>175000</td>\n",
              "      <td>USD</td>\n",
              "      <td>175000</td>\n",
              "      <td>CA</td>\n",
              "      <td>100</td>\n",
              "      <td>CA</td>\n",
              "      <td>M</td>\n",
              "    </tr>\n",
              "    <tr>\n",
              "      <th>4</th>\n",
              "      <td>2023</td>\n",
              "      <td>SE</td>\n",
              "      <td>FT</td>\n",
              "      <td>Data Scientist</td>\n",
              "      <td>120000</td>\n",
              "      <td>USD</td>\n",
              "      <td>120000</td>\n",
              "      <td>CA</td>\n",
              "      <td>100</td>\n",
              "      <td>CA</td>\n",
              "      <td>M</td>\n",
              "    </tr>\n",
              "    <tr>\n",
              "      <th>5</th>\n",
              "      <td>2023</td>\n",
              "      <td>SE</td>\n",
              "      <td>FT</td>\n",
              "      <td>Applied Scientist</td>\n",
              "      <td>222200</td>\n",
              "      <td>USD</td>\n",
              "      <td>222200</td>\n",
              "      <td>US</td>\n",
              "      <td>0</td>\n",
              "      <td>US</td>\n",
              "      <td>L</td>\n",
              "    </tr>\n",
              "    <tr>\n",
              "      <th>6</th>\n",
              "      <td>2023</td>\n",
              "      <td>SE</td>\n",
              "      <td>FT</td>\n",
              "      <td>Applied Scientist</td>\n",
              "      <td>136000</td>\n",
              "      <td>USD</td>\n",
              "      <td>136000</td>\n",
              "      <td>US</td>\n",
              "      <td>0</td>\n",
              "      <td>US</td>\n",
              "      <td>L</td>\n",
              "    </tr>\n",
              "    <tr>\n",
              "      <th>7</th>\n",
              "      <td>2023</td>\n",
              "      <td>SE</td>\n",
              "      <td>FT</td>\n",
              "      <td>Data Scientist</td>\n",
              "      <td>219000</td>\n",
              "      <td>USD</td>\n",
              "      <td>219000</td>\n",
              "      <td>CA</td>\n",
              "      <td>0</td>\n",
              "      <td>CA</td>\n",
              "      <td>M</td>\n",
              "    </tr>\n",
              "    <tr>\n",
              "      <th>8</th>\n",
              "      <td>2023</td>\n",
              "      <td>SE</td>\n",
              "      <td>FT</td>\n",
              "      <td>Data Scientist</td>\n",
              "      <td>141000</td>\n",
              "      <td>USD</td>\n",
              "      <td>141000</td>\n",
              "      <td>CA</td>\n",
              "      <td>0</td>\n",
              "      <td>CA</td>\n",
              "      <td>M</td>\n",
              "    </tr>\n",
              "    <tr>\n",
              "      <th>9</th>\n",
              "      <td>2023</td>\n",
              "      <td>SE</td>\n",
              "      <td>FT</td>\n",
              "      <td>Data Scientist</td>\n",
              "      <td>147100</td>\n",
              "      <td>USD</td>\n",
              "      <td>147100</td>\n",
              "      <td>US</td>\n",
              "      <td>0</td>\n",
              "      <td>US</td>\n",
              "      <td>M</td>\n",
              "    </tr>\n",
              "  </tbody>\n",
              "</table>\n",
              "</div>"
            ],
            "text/plain": [
              "   work_year experience_level employment_type                 job_title  \\\n",
              "0       2023               SE              FT  Principal Data Scientist   \n",
              "1       2023               MI              CT               ML Engineer   \n",
              "2       2023               MI              CT               ML Engineer   \n",
              "3       2023               SE              FT            Data Scientist   \n",
              "4       2023               SE              FT            Data Scientist   \n",
              "5       2023               SE              FT         Applied Scientist   \n",
              "6       2023               SE              FT         Applied Scientist   \n",
              "7       2023               SE              FT            Data Scientist   \n",
              "8       2023               SE              FT            Data Scientist   \n",
              "9       2023               SE              FT            Data Scientist   \n",
              "\n",
              "   salary salary_currency  salary_in_usd employee_residence  remote_ratio  \\\n",
              "0   80000             EUR          85847                 ES           100   \n",
              "1   30000             USD          30000                 US           100   \n",
              "2   25500             USD          25500                 US           100   \n",
              "3  175000             USD         175000                 CA           100   \n",
              "4  120000             USD         120000                 CA           100   \n",
              "5  222200             USD         222200                 US             0   \n",
              "6  136000             USD         136000                 US             0   \n",
              "7  219000             USD         219000                 CA             0   \n",
              "8  141000             USD         141000                 CA             0   \n",
              "9  147100             USD         147100                 US             0   \n",
              "\n",
              "  company_location company_size  \n",
              "0               ES            L  \n",
              "1               US            S  \n",
              "2               US            S  \n",
              "3               CA            M  \n",
              "4               CA            M  \n",
              "5               US            L  \n",
              "6               US            L  \n",
              "7               CA            M  \n",
              "8               CA            M  \n",
              "9               US            M  "
            ]
          },
          "execution_count": 6,
          "metadata": {},
          "output_type": "execute_result"
        }
      ],
      "source": [
        "# Preview the first 10 lines of the loaded data\n",
        "salary.head(10)"
      ]
    },
    {
      "cell_type": "code",
      "execution_count": 7,
      "metadata": {
        "colab": {
          "base_uri": "https://localhost:8080/",
          "height": 313
        },
        "id": "0MT9XZ2p0sqG",
        "outputId": "d05160df-4d5d-4b5b-dcc2-0571c44aab2a"
      },
      "outputs": [
        {
          "data": {
            "text/html": [
              "<div>\n",
              "<style scoped>\n",
              "    .dataframe tbody tr th:only-of-type {\n",
              "        vertical-align: middle;\n",
              "    }\n",
              "\n",
              "    .dataframe tbody tr th {\n",
              "        vertical-align: top;\n",
              "    }\n",
              "\n",
              "    .dataframe thead th {\n",
              "        text-align: right;\n",
              "    }\n",
              "</style>\n",
              "<table border=\"1\" class=\"dataframe\">\n",
              "  <thead>\n",
              "    <tr style=\"text-align: right;\">\n",
              "      <th></th>\n",
              "      <th>work_year</th>\n",
              "      <th>experience_level</th>\n",
              "      <th>employment_type</th>\n",
              "      <th>job_title</th>\n",
              "      <th>salary</th>\n",
              "      <th>salary_currency</th>\n",
              "      <th>salary_in_usd</th>\n",
              "      <th>employee_residence</th>\n",
              "      <th>remote_ratio</th>\n",
              "      <th>company_location</th>\n",
              "      <th>company_size</th>\n",
              "    </tr>\n",
              "  </thead>\n",
              "  <tbody>\n",
              "    <tr>\n",
              "      <th>2207</th>\n",
              "      <td>2022</td>\n",
              "      <td>SE</td>\n",
              "      <td>FT</td>\n",
              "      <td>Data Engineer</td>\n",
              "      <td>230000</td>\n",
              "      <td>USD</td>\n",
              "      <td>230000</td>\n",
              "      <td>US</td>\n",
              "      <td>0</td>\n",
              "      <td>US</td>\n",
              "      <td>L</td>\n",
              "    </tr>\n",
              "    <tr>\n",
              "      <th>376</th>\n",
              "      <td>2023</td>\n",
              "      <td>SE</td>\n",
              "      <td>FT</td>\n",
              "      <td>Data Analytics Manager</td>\n",
              "      <td>120000</td>\n",
              "      <td>USD</td>\n",
              "      <td>120000</td>\n",
              "      <td>US</td>\n",
              "      <td>100</td>\n",
              "      <td>US</td>\n",
              "      <td>M</td>\n",
              "    </tr>\n",
              "    <tr>\n",
              "      <th>1756</th>\n",
              "      <td>2023</td>\n",
              "      <td>SE</td>\n",
              "      <td>FT</td>\n",
              "      <td>Research Engineer</td>\n",
              "      <td>100000</td>\n",
              "      <td>USD</td>\n",
              "      <td>100000</td>\n",
              "      <td>US</td>\n",
              "      <td>0</td>\n",
              "      <td>US</td>\n",
              "      <td>M</td>\n",
              "    </tr>\n",
              "    <tr>\n",
              "      <th>2118</th>\n",
              "      <td>2020</td>\n",
              "      <td>MI</td>\n",
              "      <td>FT</td>\n",
              "      <td>Business Data Analyst</td>\n",
              "      <td>95000</td>\n",
              "      <td>USD</td>\n",
              "      <td>95000</td>\n",
              "      <td>US</td>\n",
              "      <td>0</td>\n",
              "      <td>US</td>\n",
              "      <td>M</td>\n",
              "    </tr>\n",
              "    <tr>\n",
              "      <th>866</th>\n",
              "      <td>2023</td>\n",
              "      <td>SE</td>\n",
              "      <td>FT</td>\n",
              "      <td>Data Scientist</td>\n",
              "      <td>149076</td>\n",
              "      <td>USD</td>\n",
              "      <td>149076</td>\n",
              "      <td>US</td>\n",
              "      <td>0</td>\n",
              "      <td>US</td>\n",
              "      <td>M</td>\n",
              "    </tr>\n",
              "  </tbody>\n",
              "</table>\n",
              "</div>"
            ],
            "text/plain": [
              "      work_year experience_level employment_type               job_title  \\\n",
              "2207       2022               SE              FT           Data Engineer   \n",
              "376        2023               SE              FT  Data Analytics Manager   \n",
              "1756       2023               SE              FT       Research Engineer   \n",
              "2118       2020               MI              FT   Business Data Analyst   \n",
              "866        2023               SE              FT          Data Scientist   \n",
              "\n",
              "      salary salary_currency  salary_in_usd employee_residence  remote_ratio  \\\n",
              "2207  230000             USD         230000                 US             0   \n",
              "376   120000             USD         120000                 US           100   \n",
              "1756  100000             USD         100000                 US             0   \n",
              "2118   95000             USD          95000                 US             0   \n",
              "866   149076             USD         149076                 US             0   \n",
              "\n",
              "     company_location company_size  \n",
              "2207               US            L  \n",
              "376                US            M  \n",
              "1756               US            M  \n",
              "2118               US            M  \n",
              "866                US            M  "
            ]
          },
          "execution_count": 7,
          "metadata": {},
          "output_type": "execute_result"
        }
      ],
      "source": [
        "# View a random dataset of data\n",
        "sample = salary.sample(5)\n",
        "sample"
      ]
    },
    {
      "cell_type": "markdown",
      "metadata": {
        "id": "li_1I4NJ3Q6J"
      },
      "source": [
        "Now we need to know how many rows and columns are there in the data set, what variables it has, the data types of the variables and the range of values they take on."
      ]
    },
    {
      "cell_type": "code",
      "execution_count": 8,
      "metadata": {
        "colab": {
          "base_uri": "https://localhost:8080/"
        },
        "id": "yzMOgjYb8LiB",
        "outputId": "74a15428-ea72-4128-f811-3e0698620b55"
      },
      "outputs": [
        {
          "name": "stdout",
          "output_type": "stream",
          "text": [
            "<class 'pandas.core.frame.DataFrame'>\n",
            "RangeIndex: 3755 entries, 0 to 3754\n",
            "Data columns (total 11 columns):\n",
            " #   Column              Non-Null Count  Dtype \n",
            "---  ------              --------------  ----- \n",
            " 0   work_year           3755 non-null   int64 \n",
            " 1   experience_level    3755 non-null   object\n",
            " 2   employment_type     3755 non-null   object\n",
            " 3   job_title           3755 non-null   object\n",
            " 4   salary              3755 non-null   int64 \n",
            " 5   salary_currency     3755 non-null   object\n",
            " 6   salary_in_usd       3755 non-null   int64 \n",
            " 7   employee_residence  3755 non-null   object\n",
            " 8   remote_ratio        3755 non-null   int64 \n",
            " 9   company_location    3755 non-null   object\n",
            " 10  company_size        3755 non-null   object\n",
            "dtypes: int64(4), object(7)\n",
            "memory usage: 322.8+ KB\n",
            "None\n"
          ]
        },
        {
          "data": {
            "text/plain": [
              "(3755, 11)"
            ]
          },
          "execution_count": 8,
          "metadata": {},
          "output_type": "execute_result"
        }
      ],
      "source": [
        "# Viewing data type and getting the total number of rows and columns\n",
        "print(salary.info())\n",
        "salary.shape"
      ]
    },
    {
      "cell_type": "markdown",
      "metadata": {
        "id": "sZ1bfAk1oCY9"
      },
      "source": [
        "As we can see from the above data frame information, there are 3755 rows, 11 columns, and no missing values in this dataset since all fields has 3755 non-null entries.\n",
        "\n",
        "However, we could check again to assure if there are some missing values in the data set."
      ]
    },
    {
      "cell_type": "code",
      "execution_count": 9,
      "metadata": {
        "colab": {
          "base_uri": "https://localhost:8080/"
        },
        "id": "EjwJAcwK4eO7",
        "outputId": "7a614159-7269-4b61-d523-9e33aff974af"
      },
      "outputs": [
        {
          "name": "stdout",
          "output_type": "stream",
          "text": [
            "work_year             0\n",
            "experience_level      0\n",
            "employment_type       0\n",
            "job_title             0\n",
            "salary                0\n",
            "salary_currency       0\n",
            "salary_in_usd         0\n",
            "employee_residence    0\n",
            "remote_ratio          0\n",
            "company_location      0\n",
            "company_size          0\n",
            "dtype: int64\n",
            "work_year             0.0\n",
            "experience_level      0.0\n",
            "employment_type       0.0\n",
            "job_title             0.0\n",
            "salary                0.0\n",
            "salary_currency       0.0\n",
            "salary_in_usd         0.0\n",
            "employee_residence    0.0\n",
            "remote_ratio          0.0\n",
            "company_location      0.0\n",
            "company_size          0.0\n",
            "dtype: float64\n"
          ]
        }
      ],
      "source": [
        "# Check missing values\n",
        "missing_values = salary.isnull().sum()\n",
        "print(missing_values)\n",
        "\n",
        "# Calculate the missing percentage\n",
        "total_values = np.product(salary.shape)\n",
        "percentage = (missing_values / total_values) * 100\n",
        "print(percentage)"
      ]
    },
    {
      "cell_type": "markdown",
      "metadata": {
        "id": "lw5LMGsj6KWo"
      },
      "source": [
        "As per the above result, we now can ensure that our data set has no missing value."
      ]
    },
    {
      "cell_type": "markdown",
      "metadata": {
        "id": "GYnt9FFGqfkT"
      },
      "source": [
        "### Data Transformation"
      ]
    },
    {
      "cell_type": "markdown",
      "metadata": {
        "id": "C9So43EkN6un"
      },
      "source": [
        "#### Unnecessary data drop\n",
        "\n",
        "Firstly, out of 3,755 observations in the dataset, there are only over 700 data values from other nations besides the US. Since this data may not be meaningfully contributing to useful analysis, we decide to exclude these data and retain only the data values from the US."
      ]
    },
    {
      "cell_type": "code",
      "execution_count": 10,
      "metadata": {
        "colab": {
          "base_uri": "https://localhost:8080/"
        },
        "id": "RUjCZTsJORg3",
        "outputId": "91d440c6-9004-43af-f46a-8b936f90167b"
      },
      "outputs": [
        {
          "data": {
            "text/plain": [
              "(3040, 11)"
            ]
          },
          "execution_count": 10,
          "metadata": {},
          "output_type": "execute_result"
        }
      ],
      "source": [
        "# Filter data values to keep the US country only\n",
        "df_salary1 = salary[salary['company_location'] == 'US']\n",
        "df_salary1.shape"
      ]
    },
    {
      "cell_type": "markdown",
      "metadata": {
        "id": "IIChUCi4OX89"
      },
      "source": [
        "Now that we only have one country in the data, we do not need 2 features \"company_location\" and \"employee_residence\" because all employees who work for a company based in the US also live in the US. So we will drop them for a cleaner data set.\n",
        "\n",
        "Besides, the \"salary\" and \"salary_currency\" features will also be removed. We saw that there are 3 features relevant to salary: \"salary\", \"salary_currency\", and \"salary_in_usa\". However, we will primarily focus on the \"salary_in_usd\" feature because it provides a standardized currency for easy comparisons."
      ]
    },
    {
      "cell_type": "code",
      "execution_count": 11,
      "metadata": {
        "colab": {
          "base_uri": "https://localhost:8080/"
        },
        "id": "VwCWLWMkObUs",
        "outputId": "5108a503-1f6c-48e9-bacd-fcc801d20a53"
      },
      "outputs": [
        {
          "data": {
            "text/plain": [
              "(3040, 9)"
            ]
          },
          "execution_count": 11,
          "metadata": {},
          "output_type": "execute_result"
        }
      ],
      "source": [
        "# Drop 2 columns 'company_location' and 'employee_residence'\n",
        "df_salary2 = df_salary1.drop(columns=['company_location', 'employee_residence'])\n",
        "df_salary2.shape"
      ]
    },
    {
      "cell_type": "code",
      "execution_count": 12,
      "metadata": {
        "colab": {
          "base_uri": "https://localhost:8080/",
          "height": 206
        },
        "id": "BnXEZT-bOdHD",
        "outputId": "2a53a124-5557-438a-faed-9411824134da"
      },
      "outputs": [
        {
          "data": {
            "text/html": [
              "<div>\n",
              "<style scoped>\n",
              "    .dataframe tbody tr th:only-of-type {\n",
              "        vertical-align: middle;\n",
              "    }\n",
              "\n",
              "    .dataframe tbody tr th {\n",
              "        vertical-align: top;\n",
              "    }\n",
              "\n",
              "    .dataframe thead th {\n",
              "        text-align: right;\n",
              "    }\n",
              "</style>\n",
              "<table border=\"1\" class=\"dataframe\">\n",
              "  <thead>\n",
              "    <tr style=\"text-align: right;\">\n",
              "      <th></th>\n",
              "      <th>work_year</th>\n",
              "      <th>experience_level</th>\n",
              "      <th>employment_type</th>\n",
              "      <th>job_title</th>\n",
              "      <th>salary_in_usd</th>\n",
              "      <th>remote_ratio</th>\n",
              "      <th>company_size</th>\n",
              "    </tr>\n",
              "  </thead>\n",
              "  <tbody>\n",
              "    <tr>\n",
              "      <th>1</th>\n",
              "      <td>2023</td>\n",
              "      <td>MI</td>\n",
              "      <td>CT</td>\n",
              "      <td>ML Engineer</td>\n",
              "      <td>30000</td>\n",
              "      <td>100</td>\n",
              "      <td>S</td>\n",
              "    </tr>\n",
              "    <tr>\n",
              "      <th>2</th>\n",
              "      <td>2023</td>\n",
              "      <td>MI</td>\n",
              "      <td>CT</td>\n",
              "      <td>ML Engineer</td>\n",
              "      <td>25500</td>\n",
              "      <td>100</td>\n",
              "      <td>S</td>\n",
              "    </tr>\n",
              "    <tr>\n",
              "      <th>5</th>\n",
              "      <td>2023</td>\n",
              "      <td>SE</td>\n",
              "      <td>FT</td>\n",
              "      <td>Applied Scientist</td>\n",
              "      <td>222200</td>\n",
              "      <td>0</td>\n",
              "      <td>L</td>\n",
              "    </tr>\n",
              "    <tr>\n",
              "      <th>6</th>\n",
              "      <td>2023</td>\n",
              "      <td>SE</td>\n",
              "      <td>FT</td>\n",
              "      <td>Applied Scientist</td>\n",
              "      <td>136000</td>\n",
              "      <td>0</td>\n",
              "      <td>L</td>\n",
              "    </tr>\n",
              "    <tr>\n",
              "      <th>9</th>\n",
              "      <td>2023</td>\n",
              "      <td>SE</td>\n",
              "      <td>FT</td>\n",
              "      <td>Data Scientist</td>\n",
              "      <td>147100</td>\n",
              "      <td>0</td>\n",
              "      <td>M</td>\n",
              "    </tr>\n",
              "  </tbody>\n",
              "</table>\n",
              "</div>"
            ],
            "text/plain": [
              "   work_year experience_level employment_type          job_title  \\\n",
              "1       2023               MI              CT        ML Engineer   \n",
              "2       2023               MI              CT        ML Engineer   \n",
              "5       2023               SE              FT  Applied Scientist   \n",
              "6       2023               SE              FT  Applied Scientist   \n",
              "9       2023               SE              FT     Data Scientist   \n",
              "\n",
              "   salary_in_usd  remote_ratio company_size  \n",
              "1          30000           100            S  \n",
              "2          25500           100            S  \n",
              "5         222200             0            L  \n",
              "6         136000             0            L  \n",
              "9         147100             0            M  "
            ]
          },
          "execution_count": 12,
          "metadata": {},
          "output_type": "execute_result"
        }
      ],
      "source": [
        "# Drop 2 columns: 'salary' and 'salary_currency'\n",
        "df_salary3 = df_salary2.drop(['salary','salary_currency'], axis=1)\n",
        "df_salary3.head()"
      ]
    },
    {
      "cell_type": "code",
      "execution_count": 13,
      "metadata": {
        "colab": {
          "base_uri": "https://localhost:8080/"
        },
        "id": "Xa32NeQLOjuj",
        "outputId": "3d793f95-fac1-414c-b0f9-788c3f67e9c4"
      },
      "outputs": [
        {
          "data": {
            "text/plain": [
              "(3040, 7)"
            ]
          },
          "execution_count": 13,
          "metadata": {},
          "output_type": "execute_result"
        }
      ],
      "source": [
        "# Check the number of rows and columns of the latest dataset\n",
        "df_salary3.shape"
      ]
    },
    {
      "cell_type": "markdown",
      "metadata": {
        "id": "H_9JrKTcOoua"
      },
      "source": [
        "As observed, there are limited number of data values for the year 2020, 2021 (which are only account for over 130 out of 3,040 observations) in the latest data set. These data may not contribute significantly to our analytic, so we will exclude it in the final data set."
      ]
    },
    {
      "cell_type": "code",
      "execution_count": 14,
      "metadata": {
        "colab": {
          "base_uri": "https://localhost:8080/"
        },
        "id": "ecq4A8JrOwjg",
        "outputId": "9993eb51-1771-4e73-acd9-694251e04873"
      },
      "outputs": [
        {
          "data": {
            "text/plain": [
              "(2909, 7)"
            ]
          },
          "execution_count": 14,
          "metadata": {},
          "output_type": "execute_result"
        }
      ],
      "source": [
        "# Filter data without values of years 2020 and 2021\n",
        "df_salary = df_salary3[(df_salary3['work_year'] != 2020) & (df_salary3['work_year'] != 2021)]\n",
        "df_salary.shape"
      ]
    },
    {
      "cell_type": "markdown",
      "metadata": {
        "id": "phVLFKQ3O6X8"
      },
      "source": [
        "Finally, our data set now has 2909 rows and 7 columns in total."
      ]
    },
    {
      "cell_type": "markdown",
      "metadata": {
        "id": "fTuXLZdO9t2s"
      },
      "source": [
        "#### Duplicated values\n",
        "\n",
        "We are going to identify and remove duplicated values (if any) in order to smooth our data set."
      ]
    },
    {
      "cell_type": "code",
      "execution_count": 55,
      "metadata": {},
      "outputs": [
        {
          "data": {
            "text/plain": [
              "False    1798\n",
              "True     1111\n",
              "Name: count, dtype: int64"
            ]
          },
          "execution_count": 55,
          "metadata": {},
          "output_type": "execute_result"
        }
      ],
      "source": [
        "# Check duplicate values\n",
        "dup_value = df_salary.duplicated()\n",
        "# Find the number of duplicate values\n",
        "dup_value_count = dup_value.value_counts()\n",
        "dup_value_count"
      ]
    },
    {
      "cell_type": "markdown",
      "metadata": {},
      "source": [
        "The result shows that there are 1111 duplicated entries in our final dataset. Before dropping them, we will display some of these duplicated values to see if they are valid to assure that we don't make any mistake here."
      ]
    },
    {
      "cell_type": "code",
      "execution_count": 56,
      "metadata": {},
      "outputs": [
        {
          "data": {
            "text/html": [
              "<div>\n",
              "<style scoped>\n",
              "    .dataframe tbody tr th:only-of-type {\n",
              "        vertical-align: middle;\n",
              "    }\n",
              "\n",
              "    .dataframe tbody tr th {\n",
              "        vertical-align: top;\n",
              "    }\n",
              "\n",
              "    .dataframe thead th {\n",
              "        text-align: right;\n",
              "    }\n",
              "</style>\n",
              "<table border=\"1\" class=\"dataframe\">\n",
              "  <thead>\n",
              "    <tr style=\"text-align: right;\">\n",
              "      <th></th>\n",
              "      <th>work_year</th>\n",
              "      <th>experience_level</th>\n",
              "      <th>employment_type</th>\n",
              "      <th>job_title</th>\n",
              "      <th>salary_in_usd</th>\n",
              "      <th>remote_ratio</th>\n",
              "      <th>company_size</th>\n",
              "      <th>salary_range_bin</th>\n",
              "    </tr>\n",
              "  </thead>\n",
              "  <tbody>\n",
              "    <tr>\n",
              "      <th>115</th>\n",
              "      <td>2023</td>\n",
              "      <td>Senior</td>\n",
              "      <td>Full-time</td>\n",
              "      <td>Data Scientist</td>\n",
              "      <td>150000</td>\n",
              "      <td>Office work</td>\n",
              "      <td>Medium</td>\n",
              "      <td>150k-200k</td>\n",
              "    </tr>\n",
              "    <tr>\n",
              "      <th>123</th>\n",
              "      <td>2023</td>\n",
              "      <td>Senior</td>\n",
              "      <td>Full-time</td>\n",
              "      <td>Analytics Engineer</td>\n",
              "      <td>289800</td>\n",
              "      <td>Office work</td>\n",
              "      <td>Medium</td>\n",
              "      <td>200k-410k</td>\n",
              "    </tr>\n",
              "    <tr>\n",
              "      <th>153</th>\n",
              "      <td>2023</td>\n",
              "      <td>Mid-level</td>\n",
              "      <td>Full-time</td>\n",
              "      <td>Data Engineer</td>\n",
              "      <td>100000</td>\n",
              "      <td>Fully remote</td>\n",
              "      <td>Medium</td>\n",
              "      <td>100k-150k</td>\n",
              "    </tr>\n",
              "    <tr>\n",
              "      <th>154</th>\n",
              "      <td>2023</td>\n",
              "      <td>Mid-level</td>\n",
              "      <td>Full-time</td>\n",
              "      <td>Data Engineer</td>\n",
              "      <td>70000</td>\n",
              "      <td>Fully remote</td>\n",
              "      <td>Medium</td>\n",
              "      <td>50k-100k</td>\n",
              "    </tr>\n",
              "    <tr>\n",
              "      <th>160</th>\n",
              "      <td>2023</td>\n",
              "      <td>Senior</td>\n",
              "      <td>Full-time</td>\n",
              "      <td>Data Engineer</td>\n",
              "      <td>115000</td>\n",
              "      <td>Office work</td>\n",
              "      <td>Medium</td>\n",
              "      <td>100k-150k</td>\n",
              "    </tr>\n",
              "    <tr>\n",
              "      <th>163</th>\n",
              "      <td>2023</td>\n",
              "      <td>Senior</td>\n",
              "      <td>Full-time</td>\n",
              "      <td>Applied Scientist</td>\n",
              "      <td>309400</td>\n",
              "      <td>Office work</td>\n",
              "      <td>Large</td>\n",
              "      <td>200k-410k</td>\n",
              "    </tr>\n",
              "    <tr>\n",
              "      <th>164</th>\n",
              "      <td>2023</td>\n",
              "      <td>Senior</td>\n",
              "      <td>Full-time</td>\n",
              "      <td>Applied Scientist</td>\n",
              "      <td>159100</td>\n",
              "      <td>Office work</td>\n",
              "      <td>Large</td>\n",
              "      <td>150k-200k</td>\n",
              "    </tr>\n",
              "    <tr>\n",
              "      <th>167</th>\n",
              "      <td>2023</td>\n",
              "      <td>Mid-level</td>\n",
              "      <td>Full-time</td>\n",
              "      <td>Data Engineer</td>\n",
              "      <td>162500</td>\n",
              "      <td>Office work</td>\n",
              "      <td>Medium</td>\n",
              "      <td>150k-200k</td>\n",
              "    </tr>\n",
              "    <tr>\n",
              "      <th>168</th>\n",
              "      <td>2023</td>\n",
              "      <td>Mid-level</td>\n",
              "      <td>Full-time</td>\n",
              "      <td>Data Engineer</td>\n",
              "      <td>130000</td>\n",
              "      <td>Office work</td>\n",
              "      <td>Medium</td>\n",
              "      <td>100k-150k</td>\n",
              "    </tr>\n",
              "    <tr>\n",
              "      <th>171</th>\n",
              "      <td>2023</td>\n",
              "      <td>Senior</td>\n",
              "      <td>Full-time</td>\n",
              "      <td>Data Engineer</td>\n",
              "      <td>145000</td>\n",
              "      <td>Office work</td>\n",
              "      <td>Medium</td>\n",
              "      <td>100k-150k</td>\n",
              "    </tr>\n",
              "  </tbody>\n",
              "</table>\n",
              "</div>"
            ],
            "text/plain": [
              "     work_year experience_level employment_type           job_title  \\\n",
              "115       2023           Senior       Full-time      Data Scientist   \n",
              "123       2023           Senior       Full-time  Analytics Engineer   \n",
              "153       2023        Mid-level       Full-time       Data Engineer   \n",
              "154       2023        Mid-level       Full-time       Data Engineer   \n",
              "160       2023           Senior       Full-time       Data Engineer   \n",
              "163       2023           Senior       Full-time   Applied Scientist   \n",
              "164       2023           Senior       Full-time   Applied Scientist   \n",
              "167       2023        Mid-level       Full-time       Data Engineer   \n",
              "168       2023        Mid-level       Full-time       Data Engineer   \n",
              "171       2023           Senior       Full-time       Data Engineer   \n",
              "\n",
              "     salary_in_usd  remote_ratio company_size salary_range_bin  \n",
              "115         150000   Office work       Medium        150k-200k  \n",
              "123         289800   Office work       Medium        200k-410k  \n",
              "153         100000  Fully remote       Medium        100k-150k  \n",
              "154          70000  Fully remote       Medium         50k-100k  \n",
              "160         115000   Office work       Medium        100k-150k  \n",
              "163         309400   Office work        Large        200k-410k  \n",
              "164         159100   Office work        Large        150k-200k  \n",
              "167         162500   Office work       Medium        150k-200k  \n",
              "168         130000   Office work       Medium        100k-150k  \n",
              "171         145000   Office work       Medium        100k-150k  "
            ]
          },
          "execution_count": 56,
          "metadata": {},
          "output_type": "execute_result"
        }
      ],
      "source": [
        "# Show some rows of duplicate values to investigate\n",
        "df_salary[dup_value].head(10)"
      ]
    },
    {
      "cell_type": "markdown",
      "metadata": {},
      "source": [
        "After manually examining the above duplicated values, we found that each of the duplicates had unique values in the \"salary_in_usd\" feature. Hence, we concluded that all of these duplicate entries are invalid observations, and none of them will be removed."
      ]
    },
    {
      "cell_type": "markdown",
      "metadata": {
        "id": "rPhRTmz29-wE"
      },
      "source": [
        "#### Distinct values"
      ]
    },
    {
      "cell_type": "code",
      "execution_count": 16,
      "metadata": {
        "colab": {
          "base_uri": "https://localhost:8080/",
          "height": 269
        },
        "id": "cNVMdca_9Tis",
        "outputId": "745fab2c-fbba-4489-b2bd-bf23ac8250bc"
      },
      "outputs": [
        {
          "data": {
            "text/html": [
              "<div>\n",
              "<style scoped>\n",
              "    .dataframe tbody tr th:only-of-type {\n",
              "        vertical-align: middle;\n",
              "    }\n",
              "\n",
              "    .dataframe tbody tr th {\n",
              "        vertical-align: top;\n",
              "    }\n",
              "\n",
              "    .dataframe thead th {\n",
              "        text-align: right;\n",
              "    }\n",
              "</style>\n",
              "<table border=\"1\" class=\"dataframe\">\n",
              "  <thead>\n",
              "    <tr style=\"text-align: right;\">\n",
              "      <th></th>\n",
              "      <th>fields</th>\n",
              "      <th>count_of_distinct_values</th>\n",
              "      <th>values</th>\n",
              "    </tr>\n",
              "  </thead>\n",
              "  <tbody>\n",
              "    <tr>\n",
              "      <th>0</th>\n",
              "      <td>work_year</td>\n",
              "      <td>2</td>\n",
              "      <td>[2023, 2022]</td>\n",
              "    </tr>\n",
              "    <tr>\n",
              "      <th>1</th>\n",
              "      <td>experience_level</td>\n",
              "      <td>4</td>\n",
              "      <td>[MI, SE, EN, EX]</td>\n",
              "    </tr>\n",
              "    <tr>\n",
              "      <th>2</th>\n",
              "      <td>employment_type</td>\n",
              "      <td>4</td>\n",
              "      <td>[CT, FT, PT, FL]</td>\n",
              "    </tr>\n",
              "    <tr>\n",
              "      <th>3</th>\n",
              "      <td>job_title</td>\n",
              "      <td>61</td>\n",
              "      <td>There are 61 distinct job titles</td>\n",
              "    </tr>\n",
              "    <tr>\n",
              "      <th>4</th>\n",
              "      <td>salary_in_usd</td>\n",
              "      <td>645</td>\n",
              "      <td>[12000, 405000]</td>\n",
              "    </tr>\n",
              "    <tr>\n",
              "      <th>5</th>\n",
              "      <td>remote_ratio</td>\n",
              "      <td>3</td>\n",
              "      <td>[100, 0, 50]</td>\n",
              "    </tr>\n",
              "    <tr>\n",
              "      <th>6</th>\n",
              "      <td>company_size</td>\n",
              "      <td>3</td>\n",
              "      <td>[L, S, M]</td>\n",
              "    </tr>\n",
              "  </tbody>\n",
              "</table>\n",
              "</div>"
            ],
            "text/plain": [
              "             fields  count_of_distinct_values  \\\n",
              "0         work_year                         2   \n",
              "1  experience_level                         4   \n",
              "2   employment_type                         4   \n",
              "3         job_title                        61   \n",
              "4     salary_in_usd                       645   \n",
              "5      remote_ratio                         3   \n",
              "6      company_size                         3   \n",
              "\n",
              "                             values  \n",
              "0                      [2023, 2022]  \n",
              "1                  [MI, SE, EN, EX]  \n",
              "2                  [CT, FT, PT, FL]  \n",
              "3  There are 61 distinct job titles  \n",
              "4                   [12000, 405000]  \n",
              "5                      [100, 0, 50]  \n",
              "6                         [L, S, M]  "
            ]
          },
          "execution_count": 16,
          "metadata": {},
          "output_type": "execute_result"
        }
      ],
      "source": [
        "# Count distinct values of each column\n",
        "year_no = df_salary.work_year.unique()\n",
        "year_unique = df_salary.work_year.nunique()\n",
        "year_no\n",
        "\n",
        "experience_level = df_salary.experience_level.unique()\n",
        "experience_unique = df_salary.experience_level.nunique()\n",
        "\n",
        "empl_type = df_salary.employment_type.unique()\n",
        "empl_unique = df_salary.employment_type.nunique()\n",
        "empl_type\n",
        "\n",
        "job_title = df_salary.job_title.nunique()\n",
        "job_title\n",
        "\n",
        "salary_usd = df_salary.salary_in_usd.unique()\n",
        "salaryusd_unique = df_salary.salary_in_usd.nunique()\n",
        "\n",
        "min_salary = df_salary['salary_in_usd'].min()\n",
        "max_salary = df_salary['salary_in_usd'].max()\n",
        "salary_range = [min_salary, max_salary]\n",
        "salary_range\n",
        "\n",
        "r_ratio = salary.remote_ratio.unique()\n",
        "rratio_unique = salary.remote_ratio.nunique()\n",
        "r_ratio\n",
        "\n",
        "co_size = salary.company_size.unique()\n",
        "cosize_unique = salary.company_size.nunique()\n",
        "co_size\n",
        "\n",
        "distinct_values = pd.DataFrame(columns=[\"fields\", \"count_of_distinct_values\", \"values\"])\n",
        "distinct_values[\"fields\"] = df_salary.columns\n",
        "distinct_values[\"count_of_distinct_values\"] = [year_unique,experience_unique,empl_unique,job_title,salaryusd_unique,rratio_unique,cosize_unique]\n",
        "distinct_values[\"values\"] = [year_no,experience_level,empl_type,\"There are 61 distinct job titles\",salary_range,r_ratio,co_size]\n",
        "distinct_values"
      ]
    },
    {
      "cell_type": "code",
      "execution_count": 17,
      "metadata": {
        "colab": {
          "base_uri": "https://localhost:8080/",
          "height": 269
        },
        "id": "LsJv7OzxFqjK",
        "outputId": "f62ebcdf-6219-418f-929f-2df61b24797c"
      },
      "outputs": [
        {
          "data": {
            "text/html": [
              "<div>\n",
              "<style scoped>\n",
              "    .dataframe tbody tr th:only-of-type {\n",
              "        vertical-align: middle;\n",
              "    }\n",
              "\n",
              "    .dataframe tbody tr th {\n",
              "        vertical-align: top;\n",
              "    }\n",
              "\n",
              "    .dataframe thead th {\n",
              "        text-align: right;\n",
              "    }\n",
              "</style>\n",
              "<table border=\"1\" class=\"dataframe\">\n",
              "  <thead>\n",
              "    <tr style=\"text-align: right;\">\n",
              "      <th></th>\n",
              "      <th>Column_name</th>\n",
              "      <th>Values_Count</th>\n",
              "      <th>Values_set</th>\n",
              "    </tr>\n",
              "  </thead>\n",
              "  <tbody>\n",
              "    <tr>\n",
              "      <th>0</th>\n",
              "      <td>work_year</td>\n",
              "      <td>2</td>\n",
              "      <td>[2023, 2022]</td>\n",
              "    </tr>\n",
              "    <tr>\n",
              "      <th>1</th>\n",
              "      <td>experience_level</td>\n",
              "      <td>4</td>\n",
              "      <td>[MI, SE, EN, EX]</td>\n",
              "    </tr>\n",
              "    <tr>\n",
              "      <th>2</th>\n",
              "      <td>employment_type</td>\n",
              "      <td>4</td>\n",
              "      <td>[CT, FT, PT, FL]</td>\n",
              "    </tr>\n",
              "    <tr>\n",
              "      <th>3</th>\n",
              "      <td>job_title</td>\n",
              "      <td>61</td>\n",
              "      <td>[ML Engineer, Applied Scientist, Data Scientis...</td>\n",
              "    </tr>\n",
              "    <tr>\n",
              "      <th>4</th>\n",
              "      <td>salary_in_usd</td>\n",
              "      <td>645</td>\n",
              "      <td>[30000, 25500, 222200, 136000, 147100, 90700, ...</td>\n",
              "    </tr>\n",
              "    <tr>\n",
              "      <th>5</th>\n",
              "      <td>remote_ratio</td>\n",
              "      <td>3</td>\n",
              "      <td>[100, 0, 50]</td>\n",
              "    </tr>\n",
              "    <tr>\n",
              "      <th>6</th>\n",
              "      <td>company_size</td>\n",
              "      <td>3</td>\n",
              "      <td>[S, L, M]</td>\n",
              "    </tr>\n",
              "  </tbody>\n",
              "</table>\n",
              "</div>"
            ],
            "text/plain": [
              "        Column_name  Values_Count  \\\n",
              "0         work_year             2   \n",
              "1  experience_level             4   \n",
              "2   employment_type             4   \n",
              "3         job_title            61   \n",
              "4     salary_in_usd           645   \n",
              "5      remote_ratio             3   \n",
              "6      company_size             3   \n",
              "\n",
              "                                          Values_set  \n",
              "0                                       [2023, 2022]  \n",
              "1                                   [MI, SE, EN, EX]  \n",
              "2                                   [CT, FT, PT, FL]  \n",
              "3  [ML Engineer, Applied Scientist, Data Scientis...  \n",
              "4  [30000, 25500, 222200, 136000, 147100, 90700, ...  \n",
              "5                                       [100, 0, 50]  \n",
              "6                                          [S, L, M]  "
            ]
          },
          "execution_count": 17,
          "metadata": {},
          "output_type": "execute_result"
        }
      ],
      "source": [
        "unique_counts = df_salary.nunique(axis=0)\n",
        "\n",
        "def valuesGet():\n",
        "    unique_values_list = []\n",
        "    for col_name in unique_counts.index:\n",
        "        values_get = df_salary[col_name].unique()\n",
        "        unique_values_list.append(values_get)\n",
        "    return unique_values_list\n",
        "\n",
        "unique_values = valuesGet()\n",
        "\n",
        "df2 = pd.DataFrame({'Values_set': unique_values})\n",
        "\n",
        "df1 = pd.DataFrame({'Column_name': unique_counts.index, 'Values_Count': unique_counts.values})\n",
        "unique_show =pd.concat([df1,df2],axis=1)\n",
        "unique_show\n"
      ]
    },
    {
      "cell_type": "markdown",
      "metadata": {
        "id": "joUCJfvqvbGe"
      },
      "source": [
        "#### Replace values\n",
        "According to the above distinct values and source inspection, we can decribe the distinct values of several fields as following:\n",
        "\n",
        "**1. Experience Level:** 4 unique values\n",
        "- EN: Entry-level / Junior\n",
        "- MI: Mid-level / Intermediate\n",
        "- SE: Senior-level / Expert\n",
        "- EX: Executive-level / Director\n",
        "\n",
        "**2. Employee Type:** 4 categories\n",
        "- PT: Part-time\n",
        "- FT: Full-time\n",
        "- CT: Contract\n",
        "- FL: Freelance\n",
        "\n",
        "**3. Remote Ratio:** 3 numerical values\n",
        "- 0: Office work\n",
        "- 50: Partial remote\n",
        "- 100: Fully remote\n",
        "\n",
        "**4. Company Size:** 3 unique values\n",
        "- S: Small-sized company\n",
        "- M: Medium-sized company\n",
        "- L: Large-sized company\n",
        "\n",
        "Now let's replace these abbreviations with the descriptions for easy understanding."
      ]
    },
    {
      "cell_type": "code",
      "execution_count": 18,
      "metadata": {
        "id": "-A4QDBJ6xcQY"
      },
      "outputs": [],
      "source": [
        "# Replace the abbreviations\n",
        "df_salary['experience_level'] = df_salary['experience_level'].replace(['EN','MI','SE','EX'], ['Entry-level','Mid-level','Senior','Executive'])\n",
        "df_salary['employment_type'] = df_salary['employment_type'].replace(['FT','PT','CT','FL'], ['Full-time','Part-time','Contract','Freelance'])\n",
        "df_salary['remote_ratio'] = df_salary['remote_ratio'].replace([0,50,100], ['Office work','Partial remote','Fully remote'])\n",
        "df_salary['company_size'] = df_salary['company_size'].replace(['S', 'M', 'L'], ['Small', 'Medium', 'Large'])"
      ]
    },
    {
      "cell_type": "code",
      "execution_count": 19,
      "metadata": {
        "id": "nP2ob_34SffL"
      },
      "outputs": [
        {
          "data": {
            "text/html": [
              "<div>\n",
              "<style scoped>\n",
              "    .dataframe tbody tr th:only-of-type {\n",
              "        vertical-align: middle;\n",
              "    }\n",
              "\n",
              "    .dataframe tbody tr th {\n",
              "        vertical-align: top;\n",
              "    }\n",
              "\n",
              "    .dataframe thead th {\n",
              "        text-align: right;\n",
              "    }\n",
              "</style>\n",
              "<table border=\"1\" class=\"dataframe\">\n",
              "  <thead>\n",
              "    <tr style=\"text-align: right;\">\n",
              "      <th></th>\n",
              "      <th>work_year</th>\n",
              "      <th>experience_level</th>\n",
              "      <th>employment_type</th>\n",
              "      <th>job_title</th>\n",
              "      <th>salary_in_usd</th>\n",
              "      <th>remote_ratio</th>\n",
              "      <th>company_size</th>\n",
              "    </tr>\n",
              "  </thead>\n",
              "  <tbody>\n",
              "    <tr>\n",
              "      <th>1</th>\n",
              "      <td>2023</td>\n",
              "      <td>Mid-level</td>\n",
              "      <td>Contract</td>\n",
              "      <td>ML Engineer</td>\n",
              "      <td>30000</td>\n",
              "      <td>Fully remote</td>\n",
              "      <td>Small</td>\n",
              "    </tr>\n",
              "    <tr>\n",
              "      <th>2</th>\n",
              "      <td>2023</td>\n",
              "      <td>Mid-level</td>\n",
              "      <td>Contract</td>\n",
              "      <td>ML Engineer</td>\n",
              "      <td>25500</td>\n",
              "      <td>Fully remote</td>\n",
              "      <td>Small</td>\n",
              "    </tr>\n",
              "    <tr>\n",
              "      <th>5</th>\n",
              "      <td>2023</td>\n",
              "      <td>Senior</td>\n",
              "      <td>Full-time</td>\n",
              "      <td>Applied Scientist</td>\n",
              "      <td>222200</td>\n",
              "      <td>Office work</td>\n",
              "      <td>Large</td>\n",
              "    </tr>\n",
              "    <tr>\n",
              "      <th>6</th>\n",
              "      <td>2023</td>\n",
              "      <td>Senior</td>\n",
              "      <td>Full-time</td>\n",
              "      <td>Applied Scientist</td>\n",
              "      <td>136000</td>\n",
              "      <td>Office work</td>\n",
              "      <td>Large</td>\n",
              "    </tr>\n",
              "    <tr>\n",
              "      <th>9</th>\n",
              "      <td>2023</td>\n",
              "      <td>Senior</td>\n",
              "      <td>Full-time</td>\n",
              "      <td>Data Scientist</td>\n",
              "      <td>147100</td>\n",
              "      <td>Office work</td>\n",
              "      <td>Medium</td>\n",
              "    </tr>\n",
              "  </tbody>\n",
              "</table>\n",
              "</div>"
            ],
            "text/plain": [
              "   work_year experience_level employment_type          job_title  \\\n",
              "1       2023        Mid-level        Contract        ML Engineer   \n",
              "2       2023        Mid-level        Contract        ML Engineer   \n",
              "5       2023           Senior       Full-time  Applied Scientist   \n",
              "6       2023           Senior       Full-time  Applied Scientist   \n",
              "9       2023           Senior       Full-time     Data Scientist   \n",
              "\n",
              "   salary_in_usd  remote_ratio company_size  \n",
              "1          30000  Fully remote        Small  \n",
              "2          25500  Fully remote        Small  \n",
              "5         222200   Office work        Large  \n",
              "6         136000   Office work        Large  \n",
              "9         147100   Office work       Medium  "
            ]
          },
          "execution_count": 19,
          "metadata": {},
          "output_type": "execute_result"
        }
      ],
      "source": [
        "# Show 5 first rows of the final data set\n",
        "df_salary.head()"
      ]
    },
    {
      "cell_type": "markdown",
      "metadata": {
        "id": "sLCB285nYM9S"
      },
      "source": [
        "#### Discretization & Bining"
      ]
    },
    {
      "cell_type": "markdown",
      "metadata": {},
      "source": [
        "We decide using \"salary_in_usd\" feature to do bining since this column contains numerical values representing the salaries in USD and by grouping these values into discrete categories, it will be useful to have an overview on the salary range.\n",
        "\n",
        "Before creating the salary bin, we need to know its minimum and maximum amount so that we can determine the first and last value of the bin.\n",
        "\n",
        "# TO BE DISCUSSED WITH GROUP: Why choosing 6 bins to split these values into?"
      ]
    },
    {
      "cell_type": "code",
      "execution_count": 21,
      "metadata": {},
      "outputs": [
        {
          "data": {
            "text/plain": [
              "12000"
            ]
          },
          "execution_count": 21,
          "metadata": {},
          "output_type": "execute_result"
        }
      ],
      "source": [
        "# Get the minimum salary\n",
        "min_salary = df_salary['salary_in_usd'].min()\n",
        "min_salary"
      ]
    },
    {
      "cell_type": "code",
      "execution_count": 22,
      "metadata": {},
      "outputs": [
        {
          "data": {
            "text/plain": [
              "405000"
            ]
          },
          "execution_count": 22,
          "metadata": {},
          "output_type": "execute_result"
        }
      ],
      "source": [
        "# Get the maximum salary\n",
        "max_salary = df_salary['salary_in_usd'].max()\n",
        "max_salary"
      ]
    },
    {
      "cell_type": "markdown",
      "metadata": {},
      "source": [
        "Then, we start creating the salary bin using cut function."
      ]
    },
    {
      "cell_type": "code",
      "execution_count": 42,
      "metadata": {},
      "outputs": [
        {
          "data": {
            "text/plain": [
              "1         30k-50k\n",
              "2         12k-30k\n",
              "5       200k-410k\n",
              "6       100k-150k\n",
              "9       100k-150k\n",
              "          ...    \n",
              "3479    100k-150k\n",
              "3482    100k-150k\n",
              "3486    100k-150k\n",
              "3490    100k-150k\n",
              "3493    100k-150k\n",
              "Name: salary_in_usd, Length: 2909, dtype: category\n",
              "Categories (6, object): ['12k-30k' < '30k-50k' < '50k-100k' < '100k-150k' < '150k-200k' < '200k-410k']"
            ]
          },
          "execution_count": 42,
          "metadata": {},
          "output_type": "execute_result"
        }
      ],
      "source": [
        "# Divide the 'salary_in_usd' column into 6 bins with labels\n",
        "bins = [12000,30000,50000,100000,150000,200000,410000]\n",
        "labels = ['12k-30k','30k-50k','50k-100k','100k-150k','150k-200k','200k-410k'] \n",
        "salary_range_bins = pd.cut(df_salary['salary_in_usd'], bins = bins, labels = labels, right = False)\n",
        "salary_range_bins"
      ]
    },
    {
      "cell_type": "code",
      "execution_count": 57,
      "metadata": {},
      "outputs": [
        {
          "data": {
            "text/plain": [
              "salary_in_usd\n",
              "[100000, 150000)    1119\n",
              "[150000, 200000)     840\n",
              "[200000, 410000)     545\n",
              "[50000, 100000)      383\n",
              "[30000, 50000)        15\n",
              "[12000, 30000)         7\n",
              "Name: count, dtype: int64"
            ]
          },
          "execution_count": 57,
          "metadata": {},
          "output_type": "execute_result"
        }
      ],
      "source": [
        "# Let's count the values of each bin\n",
        "pd.value_counts(salary_range_bins)"
      ]
    },
    {
      "cell_type": "markdown",
      "metadata": {},
      "source": [
        "#### Outliers"
      ]
    },
    {
      "cell_type": "code",
      "execution_count": 66,
      "metadata": {},
      "outputs": [
        {
          "data": {
            "image/png": "[encoded data removed]",
            "text/plain": [
              "<Figure size 1000x600 with 1 Axes>"
            ]
          },
          "metadata": {},
          "output_type": "display_data"
        }
      ],
      "source": [
        "# Define outliers by using Boxplot\n",
        "df_salary.boxplot(column='salary_in_usd', by='experience_level', figsize=(10,6))\n",
        "plt.show()"
      ]
    },
    {
      "cell_type": "code",
      "execution_count": 71,
      "metadata": {},
      "outputs": [
        {
          "data": {
            "text/html": [
              "<div>\n",
              "<style scoped>\n",
              "    .dataframe tbody tr th:only-of-type {\n",
              "        vertical-align: middle;\n",
              "    }\n",
              "\n",
              "    .dataframe tbody tr th {\n",
              "        vertical-align: top;\n",
              "    }\n",
              "\n",
              "    .dataframe thead th {\n",
              "        text-align: right;\n",
              "    }\n",
              "</style>\n",
              "<table border=\"1\" class=\"dataframe\">\n",
              "  <thead>\n",
              "    <tr style=\"text-align: right;\">\n",
              "      <th></th>\n",
              "      <th>work_year</th>\n",
              "      <th>experience_level</th>\n",
              "      <th>employment_type</th>\n",
              "      <th>job_title</th>\n",
              "      <th>salary_in_usd</th>\n",
              "      <th>remote_ratio</th>\n",
              "      <th>company_size</th>\n",
              "      <th>salary_range_bin</th>\n",
              "    </tr>\n",
              "  </thead>\n",
              "  <tbody>\n",
              "    <tr>\n",
              "      <th>478</th>\n",
              "      <td>2023</td>\n",
              "      <td>Executive</td>\n",
              "      <td>Full-time</td>\n",
              "      <td>Director of Data Science</td>\n",
              "      <td>353200</td>\n",
              "      <td>Office work</td>\n",
              "      <td>Medium</td>\n",
              "      <td>200k-410k</td>\n",
              "    </tr>\n",
              "    <tr>\n",
              "      <th>228</th>\n",
              "      <td>2023</td>\n",
              "      <td>Executive</td>\n",
              "      <td>Full-time</td>\n",
              "      <td>Head of Data</td>\n",
              "      <td>329500</td>\n",
              "      <td>Office work</td>\n",
              "      <td>Medium</td>\n",
              "      <td>200k-410k</td>\n",
              "    </tr>\n",
              "    <tr>\n",
              "      <th>3410</th>\n",
              "      <td>2022</td>\n",
              "      <td>Executive</td>\n",
              "      <td>Full-time</td>\n",
              "      <td>Data Engineer</td>\n",
              "      <td>324000</td>\n",
              "      <td>Fully remote</td>\n",
              "      <td>Medium</td>\n",
              "      <td>200k-410k</td>\n",
              "    </tr>\n",
              "    <tr>\n",
              "      <th>1396</th>\n",
              "      <td>2023</td>\n",
              "      <td>Executive</td>\n",
              "      <td>Full-time</td>\n",
              "      <td>Head of Data Science</td>\n",
              "      <td>314100</td>\n",
              "      <td>Office work</td>\n",
              "      <td>Medium</td>\n",
              "      <td>200k-410k</td>\n",
              "    </tr>\n",
              "    <tr>\n",
              "      <th>1932</th>\n",
              "      <td>2022</td>\n",
              "      <td>Executive</td>\n",
              "      <td>Full-time</td>\n",
              "      <td>Data Engineer</td>\n",
              "      <td>310000</td>\n",
              "      <td>Fully remote</td>\n",
              "      <td>Medium</td>\n",
              "      <td>200k-410k</td>\n",
              "    </tr>\n",
              "    <tr>\n",
              "      <th>...</th>\n",
              "      <td>...</td>\n",
              "      <td>...</td>\n",
              "      <td>...</td>\n",
              "      <td>...</td>\n",
              "      <td>...</td>\n",
              "      <td>...</td>\n",
              "      <td>...</td>\n",
              "      <td>...</td>\n",
              "    </tr>\n",
              "    <tr>\n",
              "      <th>3275</th>\n",
              "      <td>2022</td>\n",
              "      <td>Executive</td>\n",
              "      <td>Full-time</td>\n",
              "      <td>Data Analyst</td>\n",
              "      <td>110000</td>\n",
              "      <td>Fully remote</td>\n",
              "      <td>Medium</td>\n",
              "      <td>100k-150k</td>\n",
              "    </tr>\n",
              "    <tr>\n",
              "      <th>1375</th>\n",
              "      <td>2023</td>\n",
              "      <td>Executive</td>\n",
              "      <td>Full-time</td>\n",
              "      <td>Data Engineer</td>\n",
              "      <td>110000</td>\n",
              "      <td>Office work</td>\n",
              "      <td>Medium</td>\n",
              "      <td>100k-150k</td>\n",
              "    </tr>\n",
              "    <tr>\n",
              "      <th>275</th>\n",
              "      <td>2023</td>\n",
              "      <td>Executive</td>\n",
              "      <td>Full-time</td>\n",
              "      <td>Data Engineer</td>\n",
              "      <td>110000</td>\n",
              "      <td>Office work</td>\n",
              "      <td>Medium</td>\n",
              "      <td>100k-150k</td>\n",
              "    </tr>\n",
              "    <tr>\n",
              "      <th>798</th>\n",
              "      <td>2023</td>\n",
              "      <td>Executive</td>\n",
              "      <td>Full-time</td>\n",
              "      <td>Data Engineer</td>\n",
              "      <td>106500</td>\n",
              "      <td>Office work</td>\n",
              "      <td>Medium</td>\n",
              "      <td>100k-150k</td>\n",
              "    </tr>\n",
              "    <tr>\n",
              "      <th>554</th>\n",
              "      <td>2023</td>\n",
              "      <td>Executive</td>\n",
              "      <td>Full-time</td>\n",
              "      <td>Data Scientist</td>\n",
              "      <td>100000</td>\n",
              "      <td>Office work</td>\n",
              "      <td>Medium</td>\n",
              "      <td>100k-150k</td>\n",
              "    </tr>\n",
              "  </tbody>\n",
              "</table>\n",
              "<p>93 rows × 8 columns</p>\n",
              "</div>"
            ],
            "text/plain": [
              "      work_year experience_level employment_type                 job_title  \\\n",
              "478        2023        Executive       Full-time  Director of Data Science   \n",
              "228        2023        Executive       Full-time              Head of Data   \n",
              "3410       2022        Executive       Full-time             Data Engineer   \n",
              "1396       2023        Executive       Full-time      Head of Data Science   \n",
              "1932       2022        Executive       Full-time             Data Engineer   \n",
              "...         ...              ...             ...                       ...   \n",
              "3275       2022        Executive       Full-time              Data Analyst   \n",
              "1375       2023        Executive       Full-time             Data Engineer   \n",
              "275        2023        Executive       Full-time             Data Engineer   \n",
              "798        2023        Executive       Full-time             Data Engineer   \n",
              "554        2023        Executive       Full-time            Data Scientist   \n",
              "\n",
              "      salary_in_usd  remote_ratio company_size salary_range_bin  \n",
              "478          353200   Office work       Medium        200k-410k  \n",
              "228          329500   Office work       Medium        200k-410k  \n",
              "3410         324000  Fully remote       Medium        200k-410k  \n",
              "1396         314100   Office work       Medium        200k-410k  \n",
              "1932         310000  Fully remote       Medium        200k-410k  \n",
              "...             ...           ...          ...              ...  \n",
              "3275         110000  Fully remote       Medium        100k-150k  \n",
              "1375         110000   Office work       Medium        100k-150k  \n",
              "275          110000   Office work       Medium        100k-150k  \n",
              "798          106500   Office work       Medium        100k-150k  \n",
              "554          100000   Office work       Medium        100k-150k  \n",
              "\n",
              "[93 rows x 8 columns]"
            ]
          },
          "execution_count": 71,
          "metadata": {},
          "output_type": "execute_result"
        }
      ],
      "source": [
        "exe_level = df_salary[df_salary['experience_level'] == 'Executive']\n",
        "df3 = exe_level.sort_values(by='salary_in_usd', ascending=False)\n",
        "df3"
      ]
    },
    {
      "cell_type": "code",
      "execution_count": 74,
      "metadata": {},
      "outputs": [
        {
          "data": {
            "text/html": [
              "<div>\n",
              "<style scoped>\n",
              "    .dataframe tbody tr th:only-of-type {\n",
              "        vertical-align: middle;\n",
              "    }\n",
              "\n",
              "    .dataframe tbody tr th {\n",
              "        vertical-align: top;\n",
              "    }\n",
              "\n",
              "    .dataframe thead th {\n",
              "        text-align: right;\n",
              "    }\n",
              "</style>\n",
              "<table border=\"1\" class=\"dataframe\">\n",
              "  <thead>\n",
              "    <tr style=\"text-align: right;\">\n",
              "      <th></th>\n",
              "      <th>work_year</th>\n",
              "      <th>experience_level</th>\n",
              "      <th>employment_type</th>\n",
              "      <th>job_title</th>\n",
              "      <th>salary_in_usd</th>\n",
              "      <th>remote_ratio</th>\n",
              "      <th>company_size</th>\n",
              "      <th>salary_range_bin</th>\n",
              "    </tr>\n",
              "  </thead>\n",
              "  <tbody>\n",
              "    <tr>\n",
              "      <th>649</th>\n",
              "      <td>2023</td>\n",
              "      <td>Senior</td>\n",
              "      <td>Full-time</td>\n",
              "      <td>Data Architect</td>\n",
              "      <td>376080</td>\n",
              "      <td>Fully remote</td>\n",
              "      <td>Medium</td>\n",
              "      <td>200k-410k</td>\n",
              "    </tr>\n",
              "    <tr>\n",
              "      <th>1105</th>\n",
              "      <td>2023</td>\n",
              "      <td>Senior</td>\n",
              "      <td>Full-time</td>\n",
              "      <td>Data Scientist</td>\n",
              "      <td>370000</td>\n",
              "      <td>Office work</td>\n",
              "      <td>Medium</td>\n",
              "      <td>200k-410k</td>\n",
              "    </tr>\n",
              "    <tr>\n",
              "      <th>1258</th>\n",
              "      <td>2022</td>\n",
              "      <td>Senior</td>\n",
              "      <td>Full-time</td>\n",
              "      <td>Machine Learning Software Engineer</td>\n",
              "      <td>375000</td>\n",
              "      <td>Fully remote</td>\n",
              "      <td>Medium</td>\n",
              "      <td>200k-410k</td>\n",
              "    </tr>\n",
              "    <tr>\n",
              "      <th>1288</th>\n",
              "      <td>2023</td>\n",
              "      <td>Senior</td>\n",
              "      <td>Full-time</td>\n",
              "      <td>Data Analyst</td>\n",
              "      <td>385000</td>\n",
              "      <td>Office work</td>\n",
              "      <td>Medium</td>\n",
              "      <td>200k-410k</td>\n",
              "    </tr>\n",
              "    <tr>\n",
              "      <th>1311</th>\n",
              "      <td>2023</td>\n",
              "      <td>Senior</td>\n",
              "      <td>Full-time</td>\n",
              "      <td>Research Scientist</td>\n",
              "      <td>370000</td>\n",
              "      <td>Office work</td>\n",
              "      <td>Medium</td>\n",
              "      <td>200k-410k</td>\n",
              "    </tr>\n",
              "    <tr>\n",
              "      <th>2359</th>\n",
              "      <td>2022</td>\n",
              "      <td>Senior</td>\n",
              "      <td>Full-time</td>\n",
              "      <td>Data Science Tech Lead</td>\n",
              "      <td>375000</td>\n",
              "      <td>Partial remote</td>\n",
              "      <td>Large</td>\n",
              "      <td>200k-410k</td>\n",
              "    </tr>\n",
              "    <tr>\n",
              "      <th>3463</th>\n",
              "      <td>2022</td>\n",
              "      <td>Senior</td>\n",
              "      <td>Full-time</td>\n",
              "      <td>Data Analytics Lead</td>\n",
              "      <td>405000</td>\n",
              "      <td>Fully remote</td>\n",
              "      <td>Large</td>\n",
              "      <td>200k-410k</td>\n",
              "    </tr>\n",
              "    <tr>\n",
              "      <th>3468</th>\n",
              "      <td>2022</td>\n",
              "      <td>Senior</td>\n",
              "      <td>Full-time</td>\n",
              "      <td>Applied Data Scientist</td>\n",
              "      <td>380000</td>\n",
              "      <td>Fully remote</td>\n",
              "      <td>Large</td>\n",
              "      <td>200k-410k</td>\n",
              "    </tr>\n",
              "    <tr>\n",
              "      <th>478</th>\n",
              "      <td>2023</td>\n",
              "      <td>Executive</td>\n",
              "      <td>Full-time</td>\n",
              "      <td>Director of Data Science</td>\n",
              "      <td>353200</td>\n",
              "      <td>Office work</td>\n",
              "      <td>Medium</td>\n",
              "      <td>200k-410k</td>\n",
              "    </tr>\n",
              "  </tbody>\n",
              "</table>\n",
              "</div>"
            ],
            "text/plain": [
              "      work_year experience_level employment_type  \\\n",
              "649        2023           Senior       Full-time   \n",
              "1105       2023           Senior       Full-time   \n",
              "1258       2022           Senior       Full-time   \n",
              "1288       2023           Senior       Full-time   \n",
              "1311       2023           Senior       Full-time   \n",
              "2359       2022           Senior       Full-time   \n",
              "3463       2022           Senior       Full-time   \n",
              "3468       2022           Senior       Full-time   \n",
              "478        2023        Executive       Full-time   \n",
              "\n",
              "                               job_title  salary_in_usd    remote_ratio  \\\n",
              "649                       Data Architect         376080    Fully remote   \n",
              "1105                      Data Scientist         370000     Office work   \n",
              "1258  Machine Learning Software Engineer         375000    Fully remote   \n",
              "1288                        Data Analyst         385000     Office work   \n",
              "1311                  Research Scientist         370000     Office work   \n",
              "2359              Data Science Tech Lead         375000  Partial remote   \n",
              "3463                 Data Analytics Lead         405000    Fully remote   \n",
              "3468              Applied Data Scientist         380000    Fully remote   \n",
              "478             Director of Data Science         353200     Office work   \n",
              "\n",
              "     company_size salary_range_bin  \n",
              "649        Medium        200k-410k  \n",
              "1105       Medium        200k-410k  \n",
              "1258       Medium        200k-410k  \n",
              "1288       Medium        200k-410k  \n",
              "1311       Medium        200k-410k  \n",
              "2359        Large        200k-410k  \n",
              "3463        Large        200k-410k  \n",
              "3468        Large        200k-410k  \n",
              "478        Medium        200k-410k  "
            ]
          },
          "execution_count": 74,
          "metadata": {},
          "output_type": "execute_result"
        }
      ],
      "source": [
        "high_salary = df_salary[df_salary['salary_in_usd'] >= 353000]\n",
        "high_salary_entries = high_salary.sort_values(by='experience_level', ascending=False)\n",
        "high_salary_entries"
      ]
    },
    {
      "cell_type": "code",
      "execution_count": 68,
      "metadata": {},
      "outputs": [
        {
          "data": {
            "text/html": [
              "<div>\n",
              "<style scoped>\n",
              "    .dataframe tbody tr th:only-of-type {\n",
              "        vertical-align: middle;\n",
              "    }\n",
              "\n",
              "    .dataframe tbody tr th {\n",
              "        vertical-align: top;\n",
              "    }\n",
              "\n",
              "    .dataframe thead th {\n",
              "        text-align: right;\n",
              "    }\n",
              "</style>\n",
              "<table border=\"1\" class=\"dataframe\">\n",
              "  <thead>\n",
              "    <tr style=\"text-align: right;\">\n",
              "      <th></th>\n",
              "      <th>work_year</th>\n",
              "      <th>experience_level</th>\n",
              "      <th>employment_type</th>\n",
              "      <th>job_title</th>\n",
              "      <th>salary_in_usd</th>\n",
              "      <th>remote_ratio</th>\n",
              "      <th>company_size</th>\n",
              "      <th>salary_range_bin</th>\n",
              "    </tr>\n",
              "  </thead>\n",
              "  <tbody>\n",
              "    <tr>\n",
              "      <th>3463</th>\n",
              "      <td>2022</td>\n",
              "      <td>Senior</td>\n",
              "      <td>Full-time</td>\n",
              "      <td>Data Analytics Lead</td>\n",
              "      <td>405000</td>\n",
              "      <td>Fully remote</td>\n",
              "      <td>Large</td>\n",
              "      <td>200k-410k</td>\n",
              "    </tr>\n",
              "  </tbody>\n",
              "</table>\n",
              "</div>"
            ],
            "text/plain": [
              "      work_year experience_level employment_type            job_title  \\\n",
              "3463       2022           Senior       Full-time  Data Analytics Lead   \n",
              "\n",
              "      salary_in_usd  remote_ratio company_size salary_range_bin  \n",
              "3463         405000  Fully remote        Large        200k-410k  "
            ]
          },
          "execution_count": 68,
          "metadata": {},
          "output_type": "execute_result"
        }
      ],
      "source": [
        "highest_salary = df_salary[df_salary['salary_in_usd'] == 405000]\n",
        "highest_salary.head()"
      ]
    },
    {
      "cell_type": "markdown",
      "metadata": {
        "id": "pHdfkA4Gd7OU"
      },
      "source": [
        "### 2. Data Objects & Attribute Types"
      ]
    },
    {
      "cell_type": "markdown",
      "metadata": {
        "id": "Xhfd2uL3eOE9"
      },
      "source": [
        "**Activities:**\n",
        "- Use your dataset and print columns name that represent nominal attributes.\n",
        "- Use your dataset and print columns name that represent binary attributes.\n",
        "- Use your dataset and print columns name that represent ordinal attributes.\n",
        "\n",
        "**Assessment:**\n",
        "- Nominal Attributes (0.5 points): Accurately identifies and prints the column names representing nominal attributes.\n",
        "- Binary Attributes (0.25 points): Accurately identifies and prints the column names representing binary attributes.\n",
        "- Ordinal Attributes (0.25 points): Accurately identifies and prints the column names representing ordinal attributes."
      ]
    },
    {
      "cell_type": "code",
      "execution_count": null,
      "metadata": {
        "id": "poX0S2AUhZZf"
      },
      "outputs": [],
      "source": []
    },
    {
      "cell_type": "markdown",
      "metadata": {
        "id": "jRu4q3Xy8qQd"
      },
      "source": [
        "###  Create a medthod to print data_attributes as a list"
      ]
    },
    {
      "cell_type": "code",
      "execution_count": 26,
      "metadata": {
        "id": "Miu-LuM3HZNb"
      },
      "outputs": [],
      "source": [
        "def Data_print(input_data):\n",
        "  for i, col in enumerate(input_data):\n",
        "    print(i,col)"
      ]
    },
    {
      "cell_type": "markdown",
      "metadata": {
        "id": "b4jthhemL07Z"
      },
      "source": [
        "### Printing columns name that represent nominal attributes."
      ]
    },
    {
      "cell_type": "code",
      "execution_count": 27,
      "metadata": {
        "id": "q6_ZzPB2loXu"
      },
      "outputs": [
        {
          "name": "stdout",
          "output_type": "stream",
          "text": [
            "Nominal Atribute columns:\n",
            "\n",
            "0 work_year\n",
            "1 experience_level\n",
            "2 employment_type\n",
            "3 job_title\n",
            "4 remote_ratio\n",
            "5 company_size\n"
          ]
        }
      ],
      "source": [
        "print(\"Nominal Atribute columns:\\n\")\n",
        "Nominal_col = df_salary.loc[:, df_salary.columns != 'salary_in_usd']\n",
        "Data_print(Nominal_col)"
      ]
    },
    {
      "cell_type": "markdown",
      "metadata": {
        "id": "ei_MFPIr8ezb"
      },
      "source": [
        "###  Printing columns name that represent binary attributes."
      ]
    },
    {
      "cell_type": "code",
      "execution_count": 28,
      "metadata": {
        "id": "ZiINau_MjcAw"
      },
      "outputs": [
        {
          "name": "stdout",
          "output_type": "stream",
          "text": [
            "There are no binary columns in the data frame.\n"
          ]
        }
      ],
      "source": [
        "Binary_col = salary.columns[salary.isin([0, 1]).all()]\n",
        "\n",
        "if not Binary_col.empty:\n",
        "    print(\"Binary Atribute columns:\\n\")\n",
        "    for i, col in enumerate(Binary_col):\n",
        "        print(i, col)\n",
        "else:\n",
        "    print(\"There are no binary columns in the data frame.\")"
      ]
    },
    {
      "cell_type": "code",
      "execution_count": null,
      "metadata": {
        "id": "zAEvUzvQ7zfH"
      },
      "outputs": [],
      "source": []
    },
    {
      "cell_type": "markdown",
      "metadata": {
        "id": "8rAE4KgkKRtc"
      },
      "source": [
        "### Printing columns name that represent ordinal attributes."
      ]
    },
    {
      "cell_type": "code",
      "execution_count": 29,
      "metadata": {
        "id": "g7OV7NgyKXR9"
      },
      "outputs": [
        {
          "name": "stdout",
          "output_type": "stream",
          "text": [
            "Ordinal Atribute columns:\n",
            "\n",
            "0 experience_level\n",
            "1 salary_in_usd\n",
            "2 company_size\n"
          ]
        }
      ],
      "source": [
        "print(\"Ordinal Atribute columns:\\n\")\n",
        "Ordinal_col = df_salary[['experience_level','salary_in_usd','company_size']]\n",
        "Data_print(Ordinal_col)"
      ]
    },
    {
      "cell_type": "markdown",
      "metadata": {
        "id": "d7NPQDsw82hW"
      },
      "source": [
        "###  Printing columns name that represent numerical attributes."
      ]
    },
    {
      "cell_type": "code",
      "execution_count": 30,
      "metadata": {
        "id": "y8xhOkX_sB3s"
      },
      "outputs": [
        {
          "name": "stdout",
          "output_type": "stream",
          "text": [
            "Numerical Atribute columns:\n",
            "\n",
            "0 work_year\n",
            "1 salary_in_usd\n"
          ]
        }
      ],
      "source": [
        "print(\"Numerical Atribute columns:\\n\")\n",
        "Numerical_columns = df_salary.select_dtypes(include='number')\n",
        "Data_print(Numerical_columns)\n"
      ]
    },
    {
      "cell_type": "code",
      "execution_count": 31,
      "metadata": {
        "id": "tcSmG4iHEsXa"
      },
      "outputs": [
        {
          "data": {
            "text/html": [
              "<div>\n",
              "<style scoped>\n",
              "    .dataframe tbody tr th:only-of-type {\n",
              "        vertical-align: middle;\n",
              "    }\n",
              "\n",
              "    .dataframe tbody tr th {\n",
              "        vertical-align: top;\n",
              "    }\n",
              "\n",
              "    .dataframe thead th {\n",
              "        text-align: right;\n",
              "    }\n",
              "</style>\n",
              "<table border=\"1\" class=\"dataframe\">\n",
              "  <thead>\n",
              "    <tr style=\"text-align: right;\">\n",
              "      <th></th>\n",
              "      <th>work_year</th>\n",
              "      <th>salary_in_usd</th>\n",
              "    </tr>\n",
              "  </thead>\n",
              "  <tbody>\n",
              "    <tr>\n",
              "      <th>count</th>\n",
              "      <td>2909.000000</td>\n",
              "      <td>2909.000000</td>\n",
              "    </tr>\n",
              "    <tr>\n",
              "      <th>mean</th>\n",
              "      <td>2022.539704</td>\n",
              "      <td>152500.606050</td>\n",
              "    </tr>\n",
              "    <tr>\n",
              "      <th>std</th>\n",
              "      <td>0.498507</td>\n",
              "      <td>54658.328851</td>\n",
              "    </tr>\n",
              "    <tr>\n",
              "      <th>min</th>\n",
              "      <td>2022.000000</td>\n",
              "      <td>12000.000000</td>\n",
              "    </tr>\n",
              "    <tr>\n",
              "      <th>25%</th>\n",
              "      <td>2022.000000</td>\n",
              "      <td>115000.000000</td>\n",
              "    </tr>\n",
              "    <tr>\n",
              "      <th>50%</th>\n",
              "      <td>2023.000000</td>\n",
              "      <td>145000.000000</td>\n",
              "    </tr>\n",
              "    <tr>\n",
              "      <th>75%</th>\n",
              "      <td>2023.000000</td>\n",
              "      <td>185000.000000</td>\n",
              "    </tr>\n",
              "    <tr>\n",
              "      <th>max</th>\n",
              "      <td>2023.000000</td>\n",
              "      <td>405000.000000</td>\n",
              "    </tr>\n",
              "  </tbody>\n",
              "</table>\n",
              "</div>"
            ],
            "text/plain": [
              "         work_year  salary_in_usd\n",
              "count  2909.000000    2909.000000\n",
              "mean   2022.539704  152500.606050\n",
              "std       0.498507   54658.328851\n",
              "min    2022.000000   12000.000000\n",
              "25%    2022.000000  115000.000000\n",
              "50%    2023.000000  145000.000000\n",
              "75%    2023.000000  185000.000000\n",
              "max    2023.000000  405000.000000"
            ]
          },
          "execution_count": 31,
          "metadata": {},
          "output_type": "execute_result"
        }
      ],
      "source": [
        "Numerical_columns.describe()"
      ]
    },
    {
      "cell_type": "markdown",
      "metadata": {
        "id": "hYbFsK7QeDBV"
      },
      "source": [
        "#3. Basic Statistics"
      ]
    },
    {
      "cell_type": "code",
      "execution_count": 32,
      "metadata": {
        "id": "2XDl4tZtUUrt"
      },
      "outputs": [
        {
          "data": {
            "text/html": [
              "<div>\n",
              "<style scoped>\n",
              "    .dataframe tbody tr th:only-of-type {\n",
              "        vertical-align: middle;\n",
              "    }\n",
              "\n",
              "    .dataframe tbody tr th {\n",
              "        vertical-align: top;\n",
              "    }\n",
              "\n",
              "    .dataframe thead th {\n",
              "        text-align: right;\n",
              "    }\n",
              "</style>\n",
              "<table border=\"1\" class=\"dataframe\">\n",
              "  <thead>\n",
              "    <tr style=\"text-align: right;\">\n",
              "      <th></th>\n",
              "      <th>work_year</th>\n",
              "      <th>experience_level</th>\n",
              "      <th>employment_type</th>\n",
              "      <th>job_title</th>\n",
              "      <th>salary</th>\n",
              "      <th>salary_currency</th>\n",
              "      <th>salary_in_usd</th>\n",
              "      <th>employee_residence</th>\n",
              "      <th>remote_ratio</th>\n",
              "      <th>company_size</th>\n",
              "    </tr>\n",
              "    <tr>\n",
              "      <th>company_location</th>\n",
              "      <th></th>\n",
              "      <th></th>\n",
              "      <th></th>\n",
              "      <th></th>\n",
              "      <th></th>\n",
              "      <th></th>\n",
              "      <th></th>\n",
              "      <th></th>\n",
              "      <th></th>\n",
              "      <th></th>\n",
              "    </tr>\n",
              "  </thead>\n",
              "  <tbody>\n",
              "    <tr>\n",
              "      <th>US</th>\n",
              "      <td>2023</td>\n",
              "      <td>EN</td>\n",
              "      <td>FT</td>\n",
              "      <td>Applied Scientist</td>\n",
              "      <td>213660</td>\n",
              "      <td>USD</td>\n",
              "      <td>213660</td>\n",
              "      <td>US</td>\n",
              "      <td>0</td>\n",
              "      <td>L</td>\n",
              "    </tr>\n",
              "    <tr>\n",
              "      <th>US</th>\n",
              "      <td>2023</td>\n",
              "      <td>EN</td>\n",
              "      <td>FT</td>\n",
              "      <td>Applied Scientist</td>\n",
              "      <td>130760</td>\n",
              "      <td>USD</td>\n",
              "      <td>130760</td>\n",
              "      <td>US</td>\n",
              "      <td>0</td>\n",
              "      <td>L</td>\n",
              "    </tr>\n",
              "    <tr>\n",
              "      <th>US</th>\n",
              "      <td>2023</td>\n",
              "      <td>EN</td>\n",
              "      <td>FT</td>\n",
              "      <td>Applied Scientist</td>\n",
              "      <td>204620</td>\n",
              "      <td>USD</td>\n",
              "      <td>204620</td>\n",
              "      <td>US</td>\n",
              "      <td>0</td>\n",
              "      <td>L</td>\n",
              "    </tr>\n",
              "    <tr>\n",
              "      <th>US</th>\n",
              "      <td>2023</td>\n",
              "      <td>EN</td>\n",
              "      <td>FT</td>\n",
              "      <td>Applied Scientist</td>\n",
              "      <td>110680</td>\n",
              "      <td>USD</td>\n",
              "      <td>110680</td>\n",
              "      <td>US</td>\n",
              "      <td>0</td>\n",
              "      <td>L</td>\n",
              "    </tr>\n",
              "    <tr>\n",
              "      <th>US</th>\n",
              "      <td>2023</td>\n",
              "      <td>EN</td>\n",
              "      <td>FT</td>\n",
              "      <td>Machine Learning Engineer</td>\n",
              "      <td>163196</td>\n",
              "      <td>USD</td>\n",
              "      <td>163196</td>\n",
              "      <td>US</td>\n",
              "      <td>0</td>\n",
              "      <td>M</td>\n",
              "    </tr>\n",
              "    <tr>\n",
              "      <th>...</th>\n",
              "      <td>...</td>\n",
              "      <td>...</td>\n",
              "      <td>...</td>\n",
              "      <td>...</td>\n",
              "      <td>...</td>\n",
              "      <td>...</td>\n",
              "      <td>...</td>\n",
              "      <td>...</td>\n",
              "      <td>...</td>\n",
              "      <td>...</td>\n",
              "    </tr>\n",
              "    <tr>\n",
              "      <th>US</th>\n",
              "      <td>2023</td>\n",
              "      <td>EN</td>\n",
              "      <td>FT</td>\n",
              "      <td>Research Engineer</td>\n",
              "      <td>120000</td>\n",
              "      <td>USD</td>\n",
              "      <td>120000</td>\n",
              "      <td>US</td>\n",
              "      <td>0</td>\n",
              "      <td>M</td>\n",
              "    </tr>\n",
              "    <tr>\n",
              "      <th>US</th>\n",
              "      <td>2023</td>\n",
              "      <td>EN</td>\n",
              "      <td>FT</td>\n",
              "      <td>Deep Learning Engineer</td>\n",
              "      <td>150000</td>\n",
              "      <td>USD</td>\n",
              "      <td>150000</td>\n",
              "      <td>US</td>\n",
              "      <td>0</td>\n",
              "      <td>M</td>\n",
              "    </tr>\n",
              "    <tr>\n",
              "      <th>US</th>\n",
              "      <td>2023</td>\n",
              "      <td>EN</td>\n",
              "      <td>FT</td>\n",
              "      <td>Deep Learning Engineer</td>\n",
              "      <td>120000</td>\n",
              "      <td>USD</td>\n",
              "      <td>120000</td>\n",
              "      <td>US</td>\n",
              "      <td>0</td>\n",
              "      <td>M</td>\n",
              "    </tr>\n",
              "    <tr>\n",
              "      <th>US</th>\n",
              "      <td>2023</td>\n",
              "      <td>EN</td>\n",
              "      <td>FT</td>\n",
              "      <td>Data Engineer</td>\n",
              "      <td>160000</td>\n",
              "      <td>USD</td>\n",
              "      <td>160000</td>\n",
              "      <td>US</td>\n",
              "      <td>0</td>\n",
              "      <td>M</td>\n",
              "    </tr>\n",
              "    <tr>\n",
              "      <th>US</th>\n",
              "      <td>2023</td>\n",
              "      <td>EN</td>\n",
              "      <td>FT</td>\n",
              "      <td>Data Engineer</td>\n",
              "      <td>135000</td>\n",
              "      <td>USD</td>\n",
              "      <td>135000</td>\n",
              "      <td>US</td>\n",
              "      <td>0</td>\n",
              "      <td>M</td>\n",
              "    </tr>\n",
              "  </tbody>\n",
              "</table>\n",
              "<p>92 rows × 10 columns</p>\n",
              "</div>"
            ],
            "text/plain": [
              "                  work_year experience_level employment_type  \\\n",
              "company_location                                               \n",
              "US                     2023               EN              FT   \n",
              "US                     2023               EN              FT   \n",
              "US                     2023               EN              FT   \n",
              "US                     2023               EN              FT   \n",
              "US                     2023               EN              FT   \n",
              "...                     ...              ...             ...   \n",
              "US                     2023               EN              FT   \n",
              "US                     2023               EN              FT   \n",
              "US                     2023               EN              FT   \n",
              "US                     2023               EN              FT   \n",
              "US                     2023               EN              FT   \n",
              "\n",
              "                                  job_title  salary salary_currency  \\\n",
              "company_location                                                      \n",
              "US                        Applied Scientist  213660             USD   \n",
              "US                        Applied Scientist  130760             USD   \n",
              "US                        Applied Scientist  204620             USD   \n",
              "US                        Applied Scientist  110680             USD   \n",
              "US                Machine Learning Engineer  163196             USD   \n",
              "...                                     ...     ...             ...   \n",
              "US                        Research Engineer  120000             USD   \n",
              "US                   Deep Learning Engineer  150000             USD   \n",
              "US                   Deep Learning Engineer  120000             USD   \n",
              "US                            Data Engineer  160000             USD   \n",
              "US                            Data Engineer  135000             USD   \n",
              "\n",
              "                  salary_in_usd employee_residence  remote_ratio company_size  \n",
              "company_location                                                               \n",
              "US                       213660                 US             0            L  \n",
              "US                       130760                 US             0            L  \n",
              "US                       204620                 US             0            L  \n",
              "US                       110680                 US             0            L  \n",
              "US                       163196                 US             0            M  \n",
              "...                         ...                ...           ...          ...  \n",
              "US                       120000                 US             0            M  \n",
              "US                       150000                 US             0            M  \n",
              "US                       120000                 US             0            M  \n",
              "US                       160000                 US             0            M  \n",
              "US                       135000                 US             0            M  \n",
              "\n",
              "[92 rows x 10 columns]"
            ]
          },
          "execution_count": 32,
          "metadata": {},
          "output_type": "execute_result"
        }
      ],
      "source": [
        "salarysort_region = salary[salary.company_location=='US']\n",
        "salarysort_region.set_index('company_location',inplace=True)\n",
        "salarysort_region[(salarysort_region['work_year']==2023)&(salarysort_region['experience_level']=='EN')]\n",
        "#salarysort_region.sort_values(['salary_in_usd'],ascending=(False))"
      ]
    },
    {
      "cell_type": "markdown",
      "metadata": {
        "id": "QEdLNIapekgf"
      },
      "source": [
        "**Activities:**\n",
        "In this task, you will utilize NumPy to perform fundamental statistical operations on your dataset. You can explore the following calculations as a guideline:\n",
        "- Mean (Calculate the mean or average )\n",
        "- Median (Find the median value)\n",
        "- Standard Deviation (Compute the standard deviation of data).\n",
        "- Variance (Calculate the variance of data)\n",
        "- Minimum and Maximum (Find the minimum and maximum values)\n",
        "- Sum and Product (Compute the sum and product)\n",
        "\n",
        "**Assessment:**\n",
        "- Mean and Median (0.5 points): Correctly calculates the mean and median values for appropriate columns.\n",
        "- Standard Deviation and Variance (0.5 points): Accurately computes the standard deviation and variance of data.\n",
        "- Minimum and Maximum (0.25 points): Finds the minimum and maximum values.\n",
        "- Sum and Product (0.25 points): Accurately calculates the sum and product of data."
      ]
    },
    {
      "cell_type": "markdown",
      "metadata": {
        "id": "s6oy63J6DLzG"
      },
      "source": [
        "#4. Data Visualization"
      ]
    },
    {
      "cell_type": "markdown",
      "metadata": {
        "id": "Wqpy4k8Le77k"
      },
      "source": [
        "**Activities:**\n",
        "You will utilize Matplotlib to create a diverse range of plots and charts. Depending on the dataset and your analysis, you may generate the following visuals as needed:\n",
        "- Line Plot\n",
        "- Scatter Plot\n",
        "- Bar Chart\n",
        "- Histrogram\n",
        "- Piechart\n",
        "- Heatmap\n",
        "- 3D Plot\n",
        "\n",
        "**Assessment:**\n",
        "Creates both a line plot and a scatter plot with appropriate labels and titles.\n",
        "- Bar Chart and Histogram (0.5 points): Successfully generates a bar chart and a histogram.\n",
        "- Pie Chart and Heatmap (0.25 points): Produces a pie chart and a heatmap.\n",
        "- 3D Plot (0.25 points): Creates a 3D plot if applicable to the dataset."
      ]
    },
    {
      "cell_type": "code",
      "execution_count": null,
      "metadata": {
        "id": "jIkAuckCEEgU"
      },
      "outputs": [],
      "source": []
    }
  ],
  "metadata": {
    "colab": {
      "include_colab_link": true,
      "provenance": [],
      "toc_visible": true
    },
    "kernelspec": {
      "display_name": "Python 3",
      "name": "python3"
    },
    "language_info": {
      "codemirror_mode": {
        "name": "ipython",
        "version": 3
      },
      "file_extension": ".py",
      "mimetype": "text/x-python",
      "name": "python",
      "nbconvert_exporter": "python",
      "pygments_lexer": "ipython3",
      "version": "3.12.0"
    }
  },
  "nbformat": 4,
  "nbformat_minor": 0
}
